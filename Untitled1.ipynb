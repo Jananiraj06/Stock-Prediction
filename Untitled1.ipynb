{
 "cells": [
  {
   "cell_type": "code",
   "execution_count": 1,
   "id": "79bcbfa4-319d-485f-a72e-cdfa854d452c",
   "metadata": {},
   "outputs": [],
   "source": [
    "import numpy as np\n",
    "import pandas as pd\n",
    "from sklearn.preprocessing import MinMaxScaler\n",
    "import matplotlib.pyplot as plt"
   ]
  },
  {
   "cell_type": "code",
   "execution_count": 2,
   "id": "f669665d-9aaa-4e4d-988f-d3a42dff915e",
   "metadata": {},
   "outputs": [],
   "source": [
    "import torch\n",
    "import torch.nn as nn"
   ]
  },
  {
   "cell_type": "code",
   "execution_count": 4,
   "id": "d3513c57-ec0a-4da7-ac20-2c42e744ce11",
   "metadata": {},
   "outputs": [],
   "source": [
    "df= pd.read_csv(\"netflix.csv\")\n",
    "closed_prices = df[\"Close\"]\n"
   ]
  },
  {
   "cell_type": "code",
   "execution_count": 5,
   "id": "3fa6807d-ec5f-4816-bb54-4461a1f4568d",
   "metadata": {},
   "outputs": [],
   "source": [
    "seq_len = 15\n"
   ]
  },
  {
   "cell_type": "code",
   "execution_count": 6,
   "id": "8648029a-1828-4952-b9d4-f61bd1a14947",
   "metadata": {},
   "outputs": [],
   "source": [
    "mm = MinMaxScaler()\n",
    "scaled_price = mm.fit_transform(np.array(closed_prices)[... , None]).squeeze()\n"
   ]
  },
  {
   "cell_type": "code",
   "execution_count": 7,
   "id": "bfe0929d-f912-4811-b097-35ffa99baa64",
   "metadata": {},
   "outputs": [],
   "source": [
    "X=[]\n",
    "Y=[]"
   ]
  },
  {
   "cell_type": "code",
   "execution_count": 8,
   "id": "81daefed-e884-42b0-b6c0-471c8b047a02",
   "metadata": {},
   "outputs": [],
   "source": [
    "for i in range(len(scaled_price) - seq_len):\n",
    "    X.append(scaled_price[i : i+ seq_len])\n",
    "    Y.append(scaled_price[i+seq_len])\n"
   ]
  },
  {
   "cell_type": "code",
   "execution_count": 9,
   "id": "996ba41f-d2ce-44cc-85c6-2eda083129f6",
   "metadata": {},
   "outputs": [],
   "source": [
    "X = np.array(X)[... , None]\n",
    "Y = np.array(Y)[... ,None]\n"
   ]
  },
  {
   "cell_type": "code",
   "execution_count": 10,
   "id": "87f335d5-b362-4abe-813c-5b75bf82f4a3",
   "metadata": {},
   "outputs": [],
   "source": [
    "train_x = torch.from_numpy(X[:int(0.8*X.shape[0])]).float()\n",
    "train_y = torch.from_numpy(Y[:int(0.8*Y.shape[0])]).float()\n",
    "test_x = torch.from_numpy(X[:int(0.8*X.shape[0])]).float()\n",
    "test_y = torch.from_numpy(Y[:int(0.8*Y.shape[0])]).float()\n"
   ]
  },
  {
   "cell_type": "code",
   "execution_count": 11,
   "id": "07053f87-840c-43df-9969-da4695beaad0",
   "metadata": {},
   "outputs": [],
   "source": [
    "class Model(nn.Module):\n",
    "    def __init__(self,input_size,hidden_size):\n",
    "        super().__init__()\n",
    "        self.lstm = nn.LSTM(input_size , hidden_size,batch_first=True)\n",
    "        self.fc=nn.Linear(hidden_size, 1)\n",
    "    def forward(self , x):\n",
    "        output,(hidden,cell)=self.lstm(x)\n",
    "        return self.fc(hidden[-1,:])"
   ]
  },
  {
   "cell_type": "code",
   "execution_count": 12,
   "id": "ad07b16b-1d17-4556-91e8-fd1a8a162f3b",
   "metadata": {},
   "outputs": [],
   "source": [
    "model = Model(1,64)"
   ]
  },
  {
   "cell_type": "code",
   "execution_count": 13,
   "id": "2b7a433b-0840-4ee4-99cc-75829330ee81",
   "metadata": {},
   "outputs": [],
   "source": [
    "optimizer=torch.optim.Adam(model.parameters(), lr=0.001)\n"
   ]
  },
  {
   "cell_type": "code",
   "execution_count": 14,
   "id": "3b86659e-86f5-45ab-9bf3-9949993c8465",
   "metadata": {},
   "outputs": [],
   "source": [
    "loss_fn = nn.MSELoss()\n"
   ]
  },
  {
   "cell_type": "code",
   "execution_count": 15,
   "id": "dc9db872-cae5-4073-99fd-91c04bfca2e3",
   "metadata": {},
   "outputs": [],
   "source": [
    "num_epochs=100\n"
   ]
  },
  {
   "cell_type": "code",
   "execution_count": 16,
   "id": "a5d12c5f-be50-4239-a049-fb7fdf85654f",
   "metadata": {},
   "outputs": [
    {
     "name": "stdout",
     "output_type": "stream",
     "text": [
      "10 epoch loss 0.0050570415\n",
      "20 epoch loss 0.0044193557\n",
      "30 epoch loss 0.00350036\n",
      "40 epoch loss 0.0014813137\n",
      "50 epoch loss 0.00048296055\n",
      "60 epoch loss 0.0001895749\n",
      "70 epoch loss 3.592227e-05\n",
      "80 epoch loss 2.225563e-05\n",
      "90 epoch loss 2.0805966e-05\n"
     ]
    }
   ],
   "source": [
    "for epoch in range(num_epochs):\n",
    "    output = model(train_x)\n",
    "    loss=loss_fn(output,train_y)\n",
    "    \n",
    "    optimizer.zero_grad()\n",
    "    loss.backward()\n",
    "    optimizer.step()\n",
    "    \n",
    "    if epoch % 10==0 and epoch !=0:\n",
    "        print(epoch , \"epoch loss\", loss.detach().numpy())\n"
   ]
  },
  {
   "cell_type": "code",
   "execution_count": 17,
   "id": "2750cb6d-7861-44ab-848a-0986172bb209",
   "metadata": {},
   "outputs": [],
   "source": [
    "model.eval()\n",
    "with torch.no_grad():\n",
    "    output=model(test_x)"
   ]
  },
  {
   "cell_type": "code",
   "execution_count": 18,
   "id": "13d2623c-762a-414f-aa85-85b871a7b871",
   "metadata": {},
   "outputs": [],
   "source": [
    "pred=mm.inverse_transform(output.numpy())\n",
    "real=mm.inverse_transform(test_y.numpy())\n"
   ]
  },
  {
   "cell_type": "code",
   "execution_count": 19,
   "id": "4e1d19a8-ddf4-47cc-bcd1-7a281a80f263",
   "metadata": {},
   "outputs": [
    {
     "data": {
      "image/png": "[encoded data removed]",
      "text/plain": [
       "<Figure size 640x480 with 1 Axes>"
      ]
     },
     "metadata": {},
     "output_type": "display_data"
    }
   ],
   "source": [
    "plt.plot(pred.squeeze(),color=\"red\",label=\"predicted\")\n",
    "plt.plot(real.squeeze(),color=\"green\",label=\"real\")\n",
    "plt.show()\n"
   ]
  },
  {
   "cell_type": "code",
   "execution_count": null,
   "id": "197fb4a6-d757-431b-84db-52ecc8d3e419",
   "metadata": {},
   "outputs": [],
   "source": []
  }
 ],
 "metadata": {
  "kernelspec": {
   "display_name": "Python 3 (ipykernel)",
   "language": "python",
   "name": "python3"
  },
  "language_info": {
   "codemirror_mode": {
    "name": "ipython",
    "version": 3
   },
   "file_extension": ".py",
   "mimetype": "text/x-python",
   "name": "python",
   "nbconvert_exporter": "python",
   "pygments_lexer": "ipython3",
   "version": "3.12.3"
  }
 },
 "nbformat": 4,
 "nbformat_minor": 5
}
